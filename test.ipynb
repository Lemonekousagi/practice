{
 "cells": [
  {
   "cell_type": "code",
   "execution_count": null,
   "id": "bde7c4ef",
   "metadata": {},
   "outputs": [
    {
     "name": "stdout",
     "output_type": "stream",
     "text": [
      "<module 'torch' (namespace) from ['c:\\\\Users\\\\nakamura\\\\anaconda3\\\\envs\\\\practice\\\\Lib\\\\site-packages\\\\torch']>\n"
     ]
    }
   ],
   "source": [
    "import torch\n",
    "print(torch)\n",
    "# import torch.nn as nn\n",
    "# import numpy as np\n",
    "# import matplotlib.pyplot as plt"
   ]
  },
  {
   "cell_type": "code",
   "execution_count": null,
   "id": "de52b016",
   "metadata": {},
   "outputs": [
    {
     "name": "stdout",
     "output_type": "stream",
     "text": [
      "tensor([[0.8527, 0.0348, 0.2470],\n",
      "        [0.7806, 0.7069, 0.0680],\n",
      "        [0.9226, 0.0830, 0.8465],\n",
      "        [0.8807, 0.2728, 0.3422],\n",
      "        [0.3098, 0.9099, 0.7389]])\n",
      "tensor([[0.8527, 0.0348, 0.2470, 0.7806, 0.7069],\n",
      "        [0.0680, 0.9226, 0.0830, 0.8465, 0.8807],\n",
      "        [0.2728, 0.3422, 0.3098, 0.9099, 0.7389]])\n",
      "tensor([[1.8527, 1.0348, 1.2470],\n",
      "        [1.7806, 1.7069, 1.0680],\n",
      "        [1.9226, 1.0830, 1.8465],\n",
      "        [1.8807, 1.2728, 1.3422],\n",
      "        [1.3098, 1.9099, 1.7389]], device='cuda:0')\n",
      "tensor([[1.8527, 1.0348, 1.2470],\n",
      "        [1.7806, 1.7069, 1.0680],\n",
      "        [1.9226, 1.0830, 1.8465],\n",
      "        [1.8807, 1.2728, 1.3422],\n",
      "        [1.3098, 1.9099, 1.7389]], dtype=torch.float64)\n"
     ]
    }
   ],
   "source": [
    "# x = torch.rand(5, 3)\n",
    "# print(x)\n",
    "# y = x.view(-1, 5)\n",
    "# print(y)\n",
    "\n",
    "# if torch.cuda.is_available():\n",
    "#     device = torch.device(\"cuda\")          # a CUDA device object\n",
    "#     y = torch.ones_like(x, device=device)  # directly create a tensor on GPU\n",
    "#     x = x.to(device)                       # or just use strings ``.to(\"cuda\")``\n",
    "#     z = x + y\n",
    "#     print(z)\n",
    "#     print(z.to(\"cpu\", torch.double))       # ``.to`` can also change dtype together!\n"
   ]
  }
 ],
 "metadata": {
  "kernelspec": {
   "display_name": "Python 3",
   "language": "python",
   "name": "python3"
  },
  "language_info": {
   "codemirror_mode": {
    "name": "ipython",
    "version": 3
   },
   "file_extension": ".py",
   "mimetype": "text/x-python",
   "name": "python",
   "nbconvert_exporter": "python",
   "pygments_lexer": "ipython3",
   "version": "3.13.5"
  }
 },
 "nbformat": 4,
 "nbformat_minor": 5
}
